{
 "cells": [
  {
   "cell_type": "markdown",
   "metadata": {},
   "source": [
    "# Gesture Recognition\n",
    "In this group project, you are going to build a 3D Conv model that will be able to predict the 5 gestures correctly. Please import the following libraries to get started."
   ]
  },
  {
   "cell_type": "code",
   "execution_count": 1,
   "metadata": {},
   "outputs": [],
   "source": [
    "import numpy as np\n",
    "import os\n",
    "from imageio import imread\n",
    "from skimage.transform import resize as imresize\n",
    "import datetime\n",
    "import os"
   ]
  },
  {
   "cell_type": "markdown",
   "metadata": {},
   "source": [
    "We set the random seed so that the results don't vary drastically."
   ]
  },
  {
   "cell_type": "code",
   "execution_count": 2,
   "metadata": {},
   "outputs": [],
   "source": [
    "np.random.seed(30)\n",
    "import random as rn\n",
    "rn.seed(30)\n",
    "from keras import backend as K\n",
    "import tensorflow as tf\n",
    "tf.compat.v1.set_random_seed(30)"
   ]
  },
  {
   "cell_type": "markdown",
   "metadata": {},
   "source": [
    "In this block, you read the folder names for training and validation. You also set the `batch_size` here. Note that you set the batch size in such a way that you are able to use the GPU in full capacity. You keep increasing the batch size until the machine throws an error."
   ]
  },
  {
   "cell_type": "code",
   "execution_count": 3,
   "metadata": {},
   "outputs": [
    {
     "name": "stdout",
     "output_type": "stream",
     "text": [
      "D:\\UpGrad\\assignments\\GestureRecognitionNN\\Project_data\\train.csv\n",
      "D:\\UpGrad\\assignments\\GestureRecognitionNN\\Project_data\\val.csv\n",
      "663 100\n"
     ]
    }
   ],
   "source": [
    "notebook_folder = os.path.abspath('')\n",
    "train_csv_path = os.path.join(notebook_folder, 'Project_data\\\\train.csv')\n",
    "val_csv_path = os.path.join(notebook_folder, 'Project_data\\\\val.csv')\n",
    "\n",
    "# Read the content of train.csv and val.csv\n",
    "train_doc = np.random.permutation(open(train_csv_path).readlines())\n",
    "train_doc = list(train_doc)\n",
    "val_doc = np.random.permutation(open(val_csv_path).readlines())\n",
    "val_doc = list(val_doc)\n",
    "\n",
    "print(train_csv_path)\n",
    "print(val_csv_path)\n",
    "print(len(train_doc), len(val_doc))\n",
    "\n",
    "batch_size = 20"
   ]
  },
  {
   "cell_type": "markdown",
   "metadata": {},
   "source": [
    "## Generator\n",
    "This is one of the most important part of the code. The overall structure of the generator has been given. In the generator, you are going to preprocess the images as you have images of 2 different dimensions as well as create a batch of video frames. You have to experiment with `img_idx`, `y`,`z` and normalization such that you get high accuracy."
   ]
  },
  {
   "cell_type": "code",
   "execution_count": null,
   "metadata": {},
   "outputs": [],
   "source": [
    "# def generator(source_path, folder_list, batch_size, fraction = 1.0):\n",
    "#     print( 'Source path = ', source_path, '; batch size =', batch_size)\n",
    "#     img_idx = [i for i in range(0, 30)]\n",
    "#     dataset_size = int(len(folder_list) * fraction)\n",
    "#     folder_list = folder_list[:dataset_size]\n",
    "#     while True:\n",
    "#         t = np.random.permutation(folder_list)\n",
    "#         num_batches = len(folder_list) // batch_size  \n",
    "#         for batch in range(num_batches): # we iterate over the number of batches\n",
    "#             batch_data = np.zeros((batch_size,30,120,160,3)) # x is the number of images you use for each video, (y,z) is the final size of the input images and 3 is the number of channels RGB\n",
    "#             batch_labels = np.zeros((batch_size,5)) # batch_labels is the one hot representation of the output\n",
    "#             for folder in range(batch_size): # iterate over the batch_size\n",
    "#                 imgs = os.listdir(source_path+'/'+ t[folder + (batch*batch_size)].split(';')[0]) # read all the images in the folder\n",
    "#                 for idx,item in enumerate(img_idx): #  Iterate iver the frames/images of a folder to read them in\n",
    "#                     image = imread(source_path+'/'+ t[folder + (batch*batch_size)].strip().split(';')[0]+'/'+imgs[item]).astype(np.float32)\n",
    "                    \n",
    "#                     image = imresize(image, (120, 160)).astype(np.float32)\n",
    "                    \n",
    "#                     # Normalize and feed in the image\n",
    "#                     batch_data[folder, idx, :, :, 0] = (image[:, :, 0] - image[:, :, 0].min()) / (image[:, :, 0].max() - image[:, :, 0].min())\n",
    "#                     batch_data[folder, idx, :, :, 1] = (image[:, :, 1] - image[:, :, 1].min()) / (image[:, :, 1].max() - image[:, :, 1].min())\n",
    "#                     batch_data[folder, idx, :, :, 2] = (image[:, :, 2] - image[:, :, 2].min()) / (image[:, :, 2].max() - image[:, :, 2].min())\n",
    "                    \n",
    "#                 batch_labels[folder, int(t[folder + (batch*batch_size)].strip().split(';')[2])] = 1\n",
    "#             yield batch_data, batch_labels #you yield the batch_data and the batch_labels, remember what does yield do\n",
    "\n",
    "        \n",
    "#         # write the code for the remaining data points which are left after full batches\n",
    "#         remaining_batch_size = len(folder_list) % batch_size\n",
    "#         if remaining_batch_size != 0:\n",
    "#             batch_data = np.zeros((remaining_batch_size, 30, 120, 160, 3))\n",
    "#             batch_labels = np.zeros((remaining_batch_size, 5))\n",
    "#             for folder in range(remaining_batch_size):\n",
    "#                 # Similar processing as in the main batch loop\n",
    "#                 imgs = os.listdir(os.path.join(source_path, t[folder + (num_batches * batch_size)].split(';')[0]))\n",
    "#                 for idx, item in enumerate(img_idx):\n",
    "#                     image = imread(os.path.join(source_path, t[folder + (num_batches * batch_size)].strip().split(';')[0], imgs[item])).astype(np.float32)\n",
    "#                     image = imresize(image, (120, 160)).astype(np.float32)\n",
    "#                     batch_data[folder, idx, :, :, 0] = (image[:, :, 0] - image[:, :, 0].min()) / (image[:, :, 0].max() - image[:, :, 0].min())\n",
    "#                     batch_data[folder, idx, :, :, 1] = (image[:, :, 1] - image[:, :, 1].min()) / (image[:, :, 1].max() - image[:, :, 1].min())\n",
    "#                     batch_data[folder, idx, :, :, 2] = (image[:, :, 2] - image[:, :, 2].min()) / (image[:, :, 2].max() - image[:, :, 2].min())\n",
    "\n",
    "#                 batch_labels[folder, int(t[folder + (num_batches * batch_size)].strip().split(';')[2])] = 1\n",
    "#             yield batch_data, batch_labels\n",
    "\n"
   ]
  },
  {
   "cell_type": "code",
   "execution_count": 4,
   "metadata": {},
   "outputs": [],
   "source": [
    "# The fraction value is used to subset the data for training\n",
    "def generator(source_path, folder_list, batch_size, fraction=1.0):\n",
    "    print('Source path = ', source_path, '; batch size =', batch_size)\n",
    "    img_idx = [i for i in range(0, 30)]\n",
    "    \n",
    "    # Calculate the dataset size based on the specified fraction\n",
    "    dataset_size = int(len(folder_list) * fraction)\n",
    "    folder_list = folder_list[:dataset_size]\n",
    "    \n",
    "    while True:\n",
    "        t = np.random.permutation(folder_list)\n",
    "        num_batches = len(folder_list) // batch_size  \n",
    "        \n",
    "        for batch in range(num_batches): # iterate over the number of batches\n",
    "            batch_data = np.zeros((batch_size, 30, 120, 160, 3))  # x, y, z, 3\n",
    "            batch_labels = np.zeros((batch_size, 5))  # 5 gestures\n",
    "            \n",
    "            for folder in range(batch_size):  # iterate over the batch_size\n",
    "                imgs = os.listdir(os.path.join(source_path, t[folder + (batch * batch_size)].split(';')[0]))\n",
    "                \n",
    "                for idx, item in enumerate(img_idx):  # iterate over the frames/images of a folder to read them in\n",
    "                    image = imread(os.path.join(source_path, t[folder + (batch * batch_size)].strip().split(';')[0], imgs[item])).astype(np.float32)\n",
    "                    \n",
    "                    # Crop and resize the image\n",
    "                    image = imresize(image, (120, 160)).astype(np.float32)\n",
    "                    \n",
    "                    # Normalize and feed in the image\n",
    "                    batch_data[folder, idx, :, :, 0] = (image[:, :, 0] - image[:, :, 0].min()) / (image[:, :, 0].max() - image[:, :, 0].min())\n",
    "                    batch_data[folder, idx, :, :, 1] = (image[:, :, 1] - image[:, :, 1].min()) / (image[:, :, 1].max() - image[:, :, 1].min())\n",
    "                    batch_data[folder, idx, :, :, 2] = (image[:, :, 2] - image[:, :, 2].min()) / (image[:, :, 2].max() - image[:, :, 2].min())\n",
    "                    \n",
    "                batch_labels[folder, int(t[folder + (batch * batch_size)].strip().split(';')[2])] = 1\n",
    "            \n",
    "            yield batch_data, batch_labels  # yield the batch_data and the batch_labels\n",
    "\n",
    "        # Handle remaining data points after full batches\n",
    "        remaining_batch_size = len(folder_list) % batch_size\n",
    "        if remaining_batch_size != 0:\n",
    "            batch_data = np.zeros((remaining_batch_size, 30, 120, 160, 3))\n",
    "            batch_labels = np.zeros((remaining_batch_size, 5))\n",
    "            \n",
    "            for folder in range(remaining_batch_size):\n",
    "                imgs = os.listdir(os.path.join(source_path, t[folder + (num_batches * batch_size)].split(';')[0]))\n",
    "                \n",
    "                for idx, item in enumerate(img_idx):\n",
    "                    image = imread(os.path.join(source_path, t[folder + (num_batches * batch_size)].strip().split(';')[0], imgs[item])).astype(np.float32)\n",
    "                    image = imresize(image, (120, 160)).astype(np.float32)\n",
    "                    \n",
    "                    batch_data[folder, idx, :, :, 0] = (image[:, :, 0] - image[:, :, 0].min()) / (image[:, :, 0].max() - image[:, :, 0].min())\n",
    "                    batch_data[folder, idx, :, :, 1] = (image[:, :, 1] - image[:, :, 1].min()) / (image[:, :, 1].max() - image[:, :, 1].min())\n",
    "                    batch_data[folder, idx, :, :, 2] = (image[:, :, 2] - image[:, :, 2].min()) / (image[:, :, 2].max() - image[:, :, 2].min())\n",
    "\n",
    "                batch_labels[folder, int(t[folder + (num_batches * batch_size)].strip().split(';')[2])] = 1\n",
    "            \n",
    "            yield batch_data, batch_labels\n",
    "\n",
    "        # Shuffle the dataset for the next epoch\n",
    "        folder_list = folder_list[num_batches * batch_size:] + folder_list[:num_batches * batch_size]\n"
   ]
  },
  {
   "cell_type": "markdown",
   "metadata": {},
   "source": [
    "Note here that a video is represented above in the generator as (number of images, height, width, number of channels). Take this into consideration while creating the model architecture."
   ]
  },
  {
   "cell_type": "code",
   "execution_count": 5,
   "metadata": {},
   "outputs": [
    {
     "name": "stdout",
     "output_type": "stream",
     "text": [
      "# training sequences = 663\n",
      "# validation sequences = 100\n",
      "# epochs = 20\n"
     ]
    }
   ],
   "source": [
    "curr_dt_time = datetime.datetime.now()\n",
    "train_path = os.path.join(notebook_folder, 'Project_data\\\\train')\n",
    "val_path = os.path.join(notebook_folder, 'Project_data\\\\val')\n",
    "num_train_sequences = len(train_doc)\n",
    "print('# training sequences =', num_train_sequences)\n",
    "num_val_sequences = len(val_doc)\n",
    "print('# validation sequences =', num_val_sequences)\n",
    "num_epochs = 20\n",
    "print ('# epochs =', num_epochs)"
   ]
  },
  {
   "cell_type": "markdown",
   "metadata": {},
   "source": [
    "## Model\n",
    "Here you make the model using different functionalities that Keras provides. Remember to use `Conv3D` and `MaxPooling3D` and not `Conv2D` and `Maxpooling2D` for a 3D convolution model. You would want to use `TimeDistributed` while building a Conv2D + RNN model. Also remember that the last layer is the softmax. Design the network in such a way that the model is able to give good accuracy on the least number of parameters so that it can fit in the memory of the webcam."
   ]
  },
  {
   "cell_type": "code",
   "execution_count": 6,
   "metadata": {},
   "outputs": [],
   "source": [
    "from keras.models import Sequential, Model\n",
    "from keras.layers import Dense, GRU, Flatten, TimeDistributed, Flatten, BatchNormalization, Activation, Conv3D, MaxPooling3D, Dropout\n",
    "from keras.callbacks import ModelCheckpoint, ReduceLROnPlateau\n",
    "from keras import optimizers\n",
    "from keras.regularizers import l2\n",
    "\n",
    "model = Sequential()\n",
    "\n",
    "model.add(Conv3D(64, kernel_size=(3, 3, 3), padding='same', activation='relu'))\n",
    "model.add(MaxPooling3D(pool_size=(2, 2, 2)))\n",
    "\n",
    "model.add(Conv3D(128, kernel_size=(3, 3, 3), padding='same', activation='relu'))\n",
    "model.add(MaxPooling3D(pool_size=(2, 2, 2)))\n",
    "\n",
    "model.add(Dropout(0.5))\n",
    "\n",
    "model.add(Flatten())\n",
    "model.add(Dense(128, activation='relu'))\n",
    "model.add(Dense(5, activation='softmax'))"
   ]
  },
  {
   "cell_type": "raw",
   "metadata": {},
   "source": [
    "Now that you have written the model, the next step is to `compile` the model. When you print the `summary` of the model, you'll see the total number of parameters you have to train."
   ]
  },
  {
   "cell_type": "code",
   "execution_count": 10,
   "metadata": {
    "scrolled": true
   },
   "outputs": [
    {
     "name": "stdout",
     "output_type": "stream",
     "text": [
      "Model: \"sequential\"\n",
      "_________________________________________________________________\n",
      " Layer (type)                Output Shape              Param #   \n",
      "=================================================================\n",
      " conv3d (Conv3D)             (20, 30, 120, 160, 64)    5248      \n",
      "                                                                 \n",
      " max_pooling3d (MaxPooling3  (20, 15, 60, 80, 64)      0         \n",
      " D)                                                              \n",
      "                                                                 \n",
      " conv3d_1 (Conv3D)           (20, 15, 60, 80, 128)     221312    \n",
      "                                                                 \n",
      " max_pooling3d_1 (MaxPoolin  (20, 7, 30, 40, 128)      0         \n",
      " g3D)                                                            \n",
      "                                                                 \n",
      " dropout (Dropout)           (20, 7, 30, 40, 128)      0         \n",
      "                                                                 \n",
      " flatten (Flatten)           (20, 1075200)             0         \n",
      "                                                                 \n",
      " dense (Dense)               (20, 128)                 137625728 \n",
      "                                                                 \n",
      " dense_1 (Dense)             (20, 5)                   645       \n",
      "                                                                 \n",
      "=================================================================\n",
      "Total params: 137852933 (525.87 MB)\n",
      "Trainable params: 137852933 (525.87 MB)\n",
      "Non-trainable params: 0 (0.00 Byte)\n",
      "_________________________________________________________________\n",
      "None\n"
     ]
    }
   ],
   "source": [
    "optimiser = 'adam'\n",
    "input_shape = (20,30,120,160,3)\n",
    "model.build(input_shape)\n",
    "model.compile(optimizer=optimiser, loss='categorical_crossentropy', metrics=['categorical_accuracy'])\n",
    "print (model.summary())"
   ]
  },
  {
   "cell_type": "code",
   "execution_count": null,
   "metadata": {},
   "outputs": [],
   "source": [
    "# training_fraction = 0.2\n",
    "# small_train_generator = generator(train_path, train_doc, batch_size, fraction = training_fraction)\n",
    "# small_val_generator = generator(val_path, val_doc, batch_size, fraction = training_fraction)"
   ]
  },
  {
   "cell_type": "code",
   "execution_count": null,
   "metadata": {},
   "outputs": [],
   "source": [
    "# small_data_num_train_sequences = num_train_sequences*training_fraction\n",
    "# small_data_num_val_sequences = num_val_sequences*training_fraction\n",
    "# if (small_data_num_train_sequences%batch_size) == 0:\n",
    "#     small_data_steps_per_epoch = int(small_data_num_train_sequences/batch_size)\n",
    "# else:\n",
    "#     small_data_steps_per_epoch = (small_data_num_train_sequences//batch_size) + 1\n",
    "\n",
    "# if (num_val_sequences%batch_size) == 0:\n",
    "#     small_data_validation_steps = int(small_data_num_val_sequences/batch_size)\n",
    "# else:\n",
    "#     small_data_validation_steps = (small_data_num_val_sequences//batch_size) + 1"
   ]
  },
  {
   "cell_type": "code",
   "execution_count": null,
   "metadata": {},
   "outputs": [],
   "source": [
    "# model_name = 'model_init_small_data' + '_' + str(curr_dt_time).replace(' ','').replace(':','_') + '/'\n",
    "    \n",
    "# if not os.path.exists(model_name):\n",
    "#     os.mkdir(model_name)\n",
    "        \n",
    "# filepath = model_name + 'model-{epoch:05d}-{loss:.5f}-{categorical_accuracy:.5f}-{val_loss:.5f}-{val_categorical_accuracy:.5f}.h5'\n",
    "\n",
    "# checkpoint = ModelCheckpoint(filepath, monitor='val_loss', verbose=1, save_best_only=False, save_weights_only=False, mode='auto', period=1)\n",
    "\n",
    "# LR = ReduceLROnPlateau(monitor='val_loss', factor=0.2, patience=5, min_lr=0.0001)\n",
    "# callbacks_list = [checkpoint, LR]"
   ]
  },
  {
   "cell_type": "code",
   "execution_count": null,
   "metadata": {},
   "outputs": [],
   "source": [
    "# model.fit_generator(small_train_generator, steps_per_epoch=small_data_steps_per_epoch, epochs=num_epochs, verbose=1, \n",
    "#                     callbacks=callbacks_list, validation_data=small_val_generator, \n",
    "#                     validation_steps=small_data_validation_steps, class_weight=None, workers=1, initial_epoch=0)"
   ]
  },
  {
   "cell_type": "code",
   "execution_count": null,
   "metadata": {},
   "outputs": [],
   "source": []
  },
  {
   "cell_type": "markdown",
   "metadata": {},
   "source": [
    "Let us create the `train_generator` and the `val_generator` which will be used in `.fit_generator`."
   ]
  },
  {
   "cell_type": "code",
   "execution_count": 11,
   "metadata": {},
   "outputs": [],
   "source": [
    "train_generator = generator(train_path, train_doc, batch_size)\n",
    "val_generator = generator(val_path, val_doc, batch_size)"
   ]
  },
  {
   "cell_type": "code",
   "execution_count": 12,
   "metadata": {},
   "outputs": [
    {
     "name": "stdout",
     "output_type": "stream",
     "text": [
      "WARNING:tensorflow:`period` argument is deprecated. Please use `save_freq` to specify the frequency in number of batches seen.\n"
     ]
    }
   ],
   "source": [
    "model_name = 'model_init' + '_' + str(curr_dt_time).replace(' ','').replace(':','_') + '/'\n",
    "    \n",
    "if not os.path.exists(model_name):\n",
    "    os.mkdir(model_name)\n",
    "        \n",
    "filepath = model_name + 'model-{epoch:05d}-{loss:.5f}-{categorical_accuracy:.5f}-{val_loss:.5f}-{val_categorical_accuracy:.5f}.h5'\n",
    "\n",
    "checkpoint = ModelCheckpoint(filepath, monitor='val_loss', verbose=1, save_best_only=False, save_weights_only=False, mode='auto', period=1)\n",
    "\n",
    "LR = ReduceLROnPlateau(monitor='val_loss', factor=0.2, patience=5, min_lr=0.0001)\n",
    "callbacks_list = [checkpoint, LR]"
   ]
  },
  {
   "cell_type": "markdown",
   "metadata": {},
   "source": [
    "The `steps_per_epoch` and `validation_steps` are used by `fit_generator` to decide the number of next() calls it need to make."
   ]
  },
  {
   "cell_type": "code",
   "execution_count": 13,
   "metadata": {},
   "outputs": [],
   "source": [
    "if (num_train_sequences%batch_size) == 0:\n",
    "    steps_per_epoch = int(num_train_sequences/batch_size)\n",
    "else:\n",
    "    steps_per_epoch = (num_train_sequences//batch_size) + 1\n",
    "\n",
    "if (num_val_sequences%batch_size) == 0:\n",
    "    validation_steps = int(num_val_sequences/batch_size)\n",
    "else:\n",
    "    validation_steps = (num_val_sequences//batch_size) + 1"
   ]
  },
  {
   "cell_type": "markdown",
   "metadata": {},
   "source": [
    "Let us now fit the model. This will start training the model and with the help of the checkpoints, you'll be able to save the model at the end of each epoch."
   ]
  },
  {
   "cell_type": "code",
   "execution_count": 15,
   "metadata": {},
   "outputs": [
    {
     "name": "stderr",
     "output_type": "stream",
     "text": [
      "<timed eval>:1: UserWarning: `Model.fit_generator` is deprecated and will be removed in a future version. Please use `Model.fit`, which supports generators.\n",
      "C:\\Users\\abhir\\AppData\\Local\\Temp\\ipykernel_26996\\3699764615.py:21: DeprecationWarning: Starting with ImageIO v3 the behavior of this function will switch to that of iio.v3.imread. To keep the current behavior (and make this warning disappear) use `import imageio.v2 as imageio` or call `imageio.v2.imread` directly.\n",
      "  image = imread(os.path.join(source_path, t[folder + (batch * batch_size)].strip().split(';')[0], imgs[item])).astype(np.float32)\n"
     ]
    },
    {
     "name": "stdout",
     "output_type": "stream",
     "text": [
      "Source path =  D:\\UpGrad\\assignments\\GestureRecognitionNN\\Project_data\\train ; batch size = 20\n",
      "Epoch 1/20\n",
      "31/34 [==========================>...] - ETA: 2:58 - loss: 9.9996 - categorical_accuracy: 0.2242 "
     ]
    },
    {
     "name": "stderr",
     "output_type": "stream",
     "text": [
      "C:\\Users\\abhir\\AppData\\Local\\Temp\\ipykernel_26996\\3699764615.py:45: DeprecationWarning: Starting with ImageIO v3 the behavior of this function will switch to that of iio.v3.imread. To keep the current behavior (and make this warning disappear) use `import imageio.v2 as imageio` or call `imageio.v2.imread` directly.\n",
      "  image = imread(os.path.join(source_path, t[folder + (num_batches * batch_size)].strip().split(';')[0], imgs[item])).astype(np.float32)\n"
     ]
    },
    {
     "name": "stdout",
     "output_type": "stream",
     "text": [
      "34/34 [==============================] - ETA: 0s - loss: 9.4543 - categorical_accuracy: 0.2262 Source path =  D:\\UpGrad\\assignments\\GestureRecognitionNN\\Project_data\\val ; batch size = 20\n",
      "\n",
      "Epoch 1: saving model to model_init_2023-12-1308_27_31.050287\\model-00001-9.45426-0.22624-1.59259-0.35000.h5\n"
     ]
    },
    {
     "name": "stderr",
     "output_type": "stream",
     "text": [
      "C:\\Users\\abhir\\AppData\\Local\\Programs\\Python\\Python311\\Lib\\site-packages\\keras\\src\\engine\\training.py:3079: UserWarning: You are saving your model as an HDF5 file via `model.save()`. This file format is considered legacy. We recommend using instead the native Keras format, e.g. `model.save('my_model.keras')`.\n",
      "  saving_api.save_model(\n"
     ]
    },
    {
     "name": "stdout",
     "output_type": "stream",
     "text": [
      "34/34 [==============================] - 2013s 59s/step - loss: 9.4543 - categorical_accuracy: 0.2262 - val_loss: 1.5926 - val_categorical_accuracy: 0.3500 - lr: 0.0010\n",
      "Epoch 2/20\n",
      "34/34 [==============================] - ETA: 0s - loss: 1.5480 - categorical_accuracy: 0.3560 \n",
      "Epoch 2: saving model to model_init_2023-12-1308_27_31.050287\\model-00002-1.54802-0.35596-1.33945-0.28000.h5\n",
      "34/34 [==============================] - 1935s 57s/step - loss: 1.5480 - categorical_accuracy: 0.3560 - val_loss: 1.3394 - val_categorical_accuracy: 0.2800 - lr: 0.0010\n",
      "Epoch 3/20\n",
      "34/34 [==============================] - ETA: 0s - loss: 1.2553 - categorical_accuracy: 0.5158 \n",
      "Epoch 3: saving model to model_init_2023-12-1308_27_31.050287\\model-00003-1.25525-0.51584-1.29438-0.47000.h5\n",
      "34/34 [==============================] - 1931s 57s/step - loss: 1.2553 - categorical_accuracy: 0.5158 - val_loss: 1.2944 - val_categorical_accuracy: 0.4700 - lr: 0.0010\n",
      "Epoch 4/20\n",
      "34/34 [==============================] - ETA: 0s - loss: 0.7381 - categorical_accuracy: 0.7210 \n",
      "Epoch 4: saving model to model_init_2023-12-1308_27_31.050287\\model-00004-0.73809-0.72097-1.16504-0.56000.h5\n",
      "34/34 [==============================] - 1920s 56s/step - loss: 0.7381 - categorical_accuracy: 0.7210 - val_loss: 1.1650 - val_categorical_accuracy: 0.5600 - lr: 0.0010\n",
      "Epoch 5/20\n",
      "34/34 [==============================] - ETA: 0s - loss: 0.3846 - categorical_accuracy: 0.8703 \n",
      "Epoch 5: saving model to model_init_2023-12-1308_27_31.050287\\model-00005-0.38458-0.87029-1.48306-0.64000.h5\n",
      "34/34 [==============================] - 1941s 57s/step - loss: 0.3846 - categorical_accuracy: 0.8703 - val_loss: 1.4831 - val_categorical_accuracy: 0.6400 - lr: 0.0010\n",
      "Epoch 6/20\n",
      "34/34 [==============================] - ETA: 0s - loss: 0.1031 - categorical_accuracy: 0.9638 \n",
      "Epoch 6: saving model to model_init_2023-12-1308_27_31.050287\\model-00006-0.10309-0.96380-1.31408-0.67000.h5\n",
      "34/34 [==============================] - 1929s 57s/step - loss: 0.1031 - categorical_accuracy: 0.9638 - val_loss: 1.3141 - val_categorical_accuracy: 0.6700 - lr: 0.0010\n",
      "Epoch 7/20\n",
      "34/34 [==============================] - ETA: 0s - loss: 0.0649 - categorical_accuracy: 0.9834 \n",
      "Epoch 7: saving model to model_init_2023-12-1308_27_31.050287\\model-00007-0.06485-0.98341-1.85648-0.70000.h5\n",
      "34/34 [==============================] - 1912s 56s/step - loss: 0.0649 - categorical_accuracy: 0.9834 - val_loss: 1.8565 - val_categorical_accuracy: 0.7000 - lr: 0.0010\n",
      "Epoch 8/20\n",
      "34/34 [==============================] - ETA: 0s - loss: 0.0361 - categorical_accuracy: 0.9849 \n",
      "Epoch 8: saving model to model_init_2023-12-1308_27_31.050287\\model-00008-0.03608-0.98492-2.33084-0.63000.h5\n",
      "34/34 [==============================] - 1908s 56s/step - loss: 0.0361 - categorical_accuracy: 0.9849 - val_loss: 2.3308 - val_categorical_accuracy: 0.6300 - lr: 0.0010\n",
      "Epoch 9/20\n",
      "34/34 [==============================] - ETA: 0s - loss: 0.0171 - categorical_accuracy: 0.9970 \n",
      "Epoch 9: saving model to model_init_2023-12-1308_27_31.050287\\model-00009-0.01709-0.99698-1.89143-0.66000.h5\n",
      "34/34 [==============================] - 1912s 56s/step - loss: 0.0171 - categorical_accuracy: 0.9970 - val_loss: 1.8914 - val_categorical_accuracy: 0.6600 - lr: 0.0010\n",
      "Epoch 10/20\n",
      "34/34 [==============================] - ETA: 0s - loss: 0.0071 - categorical_accuracy: 0.9985 \n",
      "Epoch 10: saving model to model_init_2023-12-1308_27_31.050287\\model-00010-0.00707-0.99849-1.28158-0.74000.h5\n",
      "34/34 [==============================] - 1912s 56s/step - loss: 0.0071 - categorical_accuracy: 0.9985 - val_loss: 1.2816 - val_categorical_accuracy: 0.7400 - lr: 2.0000e-04\n",
      "Epoch 11/20\n",
      "34/34 [==============================] - ETA: 0s - loss: 0.0041 - categorical_accuracy: 1.0000 \n",
      "Epoch 11: saving model to model_init_2023-12-1308_27_31.050287\\model-00011-0.00413-1.00000-1.78036-0.69000.h5\n",
      "34/34 [==============================] - 1924s 57s/step - loss: 0.0041 - categorical_accuracy: 1.0000 - val_loss: 1.7804 - val_categorical_accuracy: 0.6900 - lr: 2.0000e-04\n",
      "Epoch 12/20\n",
      "34/34 [==============================] - ETA: 0s - loss: 0.0043 - categorical_accuracy: 0.9985 \n",
      "Epoch 12: saving model to model_init_2023-12-1308_27_31.050287\\model-00012-0.00431-0.99849-1.84766-0.69000.h5\n",
      "34/34 [==============================] - 1916s 56s/step - loss: 0.0043 - categorical_accuracy: 0.9985 - val_loss: 1.8477 - val_categorical_accuracy: 0.6900 - lr: 2.0000e-04\n",
      "Epoch 13/20\n",
      "34/34 [==============================] - ETA: 0s - loss: 0.0036 - categorical_accuracy: 0.9985 \n",
      "Epoch 13: saving model to model_init_2023-12-1308_27_31.050287\\model-00013-0.00364-0.99849-1.66333-0.71000.h5\n",
      "34/34 [==============================] - 1918s 56s/step - loss: 0.0036 - categorical_accuracy: 0.9985 - val_loss: 1.6633 - val_categorical_accuracy: 0.7100 - lr: 2.0000e-04\n",
      "Epoch 14/20\n",
      "34/34 [==============================] - ETA: 0s - loss: 0.0024 - categorical_accuracy: 1.0000 \n",
      "Epoch 14: saving model to model_init_2023-12-1308_27_31.050287\\model-00014-0.00241-1.00000-2.16470-0.69000.h5\n",
      "34/34 [==============================] - 1922s 56s/step - loss: 0.0024 - categorical_accuracy: 1.0000 - val_loss: 2.1647 - val_categorical_accuracy: 0.6900 - lr: 2.0000e-04\n",
      "Epoch 15/20\n",
      "34/34 [==============================] - ETA: 0s - loss: 0.0037 - categorical_accuracy: 1.0000 \n",
      "Epoch 15: saving model to model_init_2023-12-1308_27_31.050287\\model-00015-0.00366-1.00000-1.72092-0.74000.h5\n",
      "34/34 [==============================] - 1923s 57s/step - loss: 0.0037 - categorical_accuracy: 1.0000 - val_loss: 1.7209 - val_categorical_accuracy: 0.7400 - lr: 1.0000e-04\n",
      "Epoch 16/20\n",
      "34/34 [==============================] - ETA: 0s - loss: 0.0025 - categorical_accuracy: 1.0000 \n",
      "Epoch 16: saving model to model_init_2023-12-1308_27_31.050287\\model-00016-0.00253-1.00000-1.82437-0.72000.h5\n",
      "34/34 [==============================] - 1967s 58s/step - loss: 0.0025 - categorical_accuracy: 1.0000 - val_loss: 1.8244 - val_categorical_accuracy: 0.7200 - lr: 1.0000e-04\n",
      "Epoch 17/20\n",
      "34/34 [==============================] - ETA: 0s - loss: 0.0017 - categorical_accuracy: 1.0000 \n",
      "Epoch 17: saving model to model_init_2023-12-1308_27_31.050287\\model-00017-0.00170-1.00000-1.89920-0.71000.h5\n",
      "34/34 [==============================] - 1925s 57s/step - loss: 0.0017 - categorical_accuracy: 1.0000 - val_loss: 1.8992 - val_categorical_accuracy: 0.7100 - lr: 1.0000e-04\n",
      "Epoch 18/20\n",
      "34/34 [==============================] - ETA: 0s - loss: 0.0016 - categorical_accuracy: 1.0000 \n",
      "Epoch 18: saving model to model_init_2023-12-1308_27_31.050287\\model-00018-0.00163-1.00000-1.76038-0.73000.h5\n",
      "34/34 [==============================] - 1921s 56s/step - loss: 0.0016 - categorical_accuracy: 1.0000 - val_loss: 1.7604 - val_categorical_accuracy: 0.7300 - lr: 1.0000e-04\n",
      "Epoch 19/20\n",
      "34/34 [==============================] - ETA: 0s - loss: 0.0017 - categorical_accuracy: 1.0000 \n",
      "Epoch 19: saving model to model_init_2023-12-1308_27_31.050287\\model-00019-0.00171-1.00000-1.75964-0.74000.h5\n",
      "34/34 [==============================] - 1930s 57s/step - loss: 0.0017 - categorical_accuracy: 1.0000 - val_loss: 1.7596 - val_categorical_accuracy: 0.7400 - lr: 1.0000e-04\n",
      "Epoch 20/20\n",
      "34/34 [==============================] - ETA: 0s - loss: 0.0023 - categorical_accuracy: 1.0000 \n",
      "Epoch 20: saving model to model_init_2023-12-1308_27_31.050287\\model-00020-0.00227-1.00000-1.87716-0.70000.h5\n",
      "34/34 [==============================] - 1924s 57s/step - loss: 0.0023 - categorical_accuracy: 1.0000 - val_loss: 1.8772 - val_categorical_accuracy: 0.7000 - lr: 1.0000e-04\n",
      "CPU times: total: 1d 5h 32min 42s\n",
      "Wall time: 10h 43min 6s\n"
     ]
    },
    {
     "data": {
      "text/plain": [
       "<keras.src.callbacks.History at 0x24cd5448e50>"
      ]
     },
     "execution_count": 15,
     "metadata": {},
     "output_type": "execute_result"
    }
   ],
   "source": [
    "%time model.fit_generator(train_generator, steps_per_epoch=steps_per_epoch, epochs=num_epochs, verbose=1, callbacks=callbacks_list, validation_data=val_generator, validation_steps=validation_steps, class_weight=None, workers=1, initial_epoch=0)"
   ]
  },
  {
   "cell_type": "code",
   "execution_count": null,
   "metadata": {},
   "outputs": [],
   "source": []
  }
 ],
 "metadata": {
  "kernelspec": {
   "display_name": "Python 3 (ipykernel)",
   "language": "python",
   "name": "python3"
  },
  "language_info": {
   "codemirror_mode": {
    "name": "ipython",
    "version": 3
   },
   "file_extension": ".py",
   "mimetype": "text/x-python",
   "name": "python",
   "nbconvert_exporter": "python",
   "pygments_lexer": "ipython3",
   "version": "3.11.5"
  }
 },
 "nbformat": 4,
 "nbformat_minor": 4
}
